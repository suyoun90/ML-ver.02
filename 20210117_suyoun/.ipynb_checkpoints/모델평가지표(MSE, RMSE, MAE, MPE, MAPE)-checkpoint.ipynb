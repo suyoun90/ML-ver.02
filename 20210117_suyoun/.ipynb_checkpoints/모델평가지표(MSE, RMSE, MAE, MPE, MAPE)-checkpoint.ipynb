{
 "cells": [
  {
   "cell_type": "code",
   "execution_count": 4,
   "metadata": {},
   "outputs": [],
   "source": [
    "import pandas as pd \n",
    "import numpy as np \n",
    "from sklearn import datasets\n",
    "from sklearn.model_selection import train_test_split \n",
    "datas = datasets.load_diabetes()"
   ]
  },
  {
   "cell_type": "code",
   "execution_count": 5,
   "metadata": {},
   "outputs": [],
   "source": [
    "datas.target\n",
    "df = pd.DataFrame(datas.data, columns = datas.feature_names)\n",
    "y = pd.DataFrame(datas.target, columns = ['y'])\n",
    "df = pd.concat([df, y], axis=1)\n",
    "train, test = train_test_split(df, test_size = 0.3, random_state=123)"
   ]
  },
  {
   "cell_type": "code",
   "execution_count": 6,
   "metadata": {},
   "outputs": [],
   "source": [
    "from sklearn.linear_model import LinearRegression \n",
    "lr = LinearRegression()\n",
    "lr.fit(train.drop(columns='y'), train.y)\n",
    "y_pred = lr.predict(test.drop(columns='y'))\n",
    "y_true = test.y"
   ]
  },
  {
   "cell_type": "markdown",
   "metadata": {},
   "source": [
    "#### 평균제곱오차 MSE"
   ]
  },
  {
   "cell_type": "code",
   "execution_count": 7,
   "metadata": {},
   "outputs": [
    {
     "name": "stdout",
     "output_type": "stream",
     "text": [
      "2926.8005772468837 2926.8005772468828\n"
     ]
    }
   ],
   "source": [
    "from sklearn.metrics import mean_squared_error \n",
    "mse = mean_squared_error(y_true, y_pred)\n",
    "\n",
    "def MSE(y, pred):\n",
    "    return np.mean(np.square(y-pred))\n",
    "print(MSE(y_true, y_pred), mse)"
   ]
  },
  {
   "cell_type": "markdown",
   "metadata": {},
   "source": [
    "#### 평균제곱근오차 RMSE"
   ]
  },
  {
   "cell_type": "code",
   "execution_count": 8,
   "metadata": {},
   "outputs": [
    {
     "name": "stdout",
     "output_type": "stream",
     "text": [
      "54.09991291348706 54.099912913487046\n"
     ]
    }
   ],
   "source": [
    "from sklearn.metrics import mean_squared_error\n",
    "rmse = np.sqrt(mean_squared_error(y_true, y_pred))\n",
    "\n",
    "def RMSE(y, pred):\n",
    "    return np.sqrt(np.mean(np.square(y-pred)))\n",
    "print(RMSE(y_true, y_pred), rmse)"
   ]
  },
  {
   "cell_type": "markdown",
   "metadata": {},
   "source": [
    "#### 평균절대오차 MAE"
   ]
  },
  {
   "cell_type": "code",
   "execution_count": 9,
   "metadata": {},
   "outputs": [
    {
     "name": "stdout",
     "output_type": "stream",
     "text": [
      "44.480573190643646 44.48057319064366\n"
     ]
    }
   ],
   "source": [
    "from sklearn.metrics import mean_absolute_error\n",
    "mae = mean_absolute_error(y_true, y_pred)\n",
    "\n",
    "def MAE(y, pred):\n",
    "    return np.mean(np.abs(y-pred))\n",
    "print(MAE(y_true, y_pred), mae)"
   ]
  },
  {
   "cell_type": "markdown",
   "metadata": {},
   "source": [
    "#### 평균백분율오차 MPE"
   ]
  },
  {
   "cell_type": "code",
   "execution_count": 10,
   "metadata": {},
   "outputs": [
    {
     "name": "stdout",
     "output_type": "stream",
     "text": [
      "-19.399644435854015\n"
     ]
    }
   ],
   "source": [
    "def MPE(y, pred):\n",
    "    return np.mean((y-pred)/y)*100\n",
    "print(MPE(y_true, y_pred))"
   ]
  },
  {
   "cell_type": "markdown",
   "metadata": {},
   "source": [
    "#### 평균절대백분율오차 MAPE"
   ]
  },
  {
   "cell_type": "code",
   "execution_count": 11,
   "metadata": {},
   "outputs": [
    {
     "name": "stdout",
     "output_type": "stream",
     "text": [
      "39.72672552788672\n"
     ]
    }
   ],
   "source": [
    "def MAPE(y, pred):\n",
    "    return np.mean(np.abs((y-pred)/y)*100)\n",
    "print(MAPE(y_true, y_pred))"
   ]
  },
  {
   "cell_type": "markdown",
   "metadata": {},
   "source": [
    "#### R2 Score "
   ]
  },
  {
   "cell_type": "code",
   "execution_count": 12,
   "metadata": {},
   "outputs": [
    {
     "name": "stdout",
     "output_type": "stream",
     "text": [
      "0.5078285584893742\n"
     ]
    }
   ],
   "source": [
    "from sklearn.metrics import r2_score\n",
    "\n",
    "r2_y_predict = r2_score(y_true, y_pred)\n",
    "print(r2_y_predict)"
   ]
  }
 ],
 "metadata": {
  "kernelspec": {
   "display_name": "Python 3",
   "language": "python",
   "name": "python3"
  },
  "language_info": {
   "codemirror_mode": {
    "name": "ipython",
    "version": 3
   },
   "file_extension": ".py",
   "mimetype": "text/x-python",
   "name": "python",
   "nbconvert_exporter": "python",
   "pygments_lexer": "ipython3",
   "version": "3.8.3"
  }
 },
 "nbformat": 4,
 "nbformat_minor": 4
}
