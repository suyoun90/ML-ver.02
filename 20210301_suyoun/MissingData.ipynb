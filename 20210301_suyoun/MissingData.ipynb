{
 "cells": [
  {
   "cell_type": "markdown",
   "metadata": {},
   "source": [
    "## Missing Data 처리 "
   ]
  },
  {
   "cell_type": "code",
   "execution_count": 9,
   "metadata": {},
   "outputs": [],
   "source": [
    "import numpy as np\n",
    "import pandas as pd\n",
    "import matplotlib.pyplot as plt\n",
    "import seaborn as sns\n",
    "\n",
    "data = pd.read_csv('./sample.csv')"
   ]
  },
  {
   "cell_type": "code",
   "execution_count": 10,
   "metadata": {},
   "outputs": [
    {
     "data": {
      "text/html": [
       "<div>\n",
       "<style scoped>\n",
       "    .dataframe tbody tr th:only-of-type {\n",
       "        vertical-align: middle;\n",
       "    }\n",
       "\n",
       "    .dataframe tbody tr th {\n",
       "        vertical-align: top;\n",
       "    }\n",
       "\n",
       "    .dataframe thead th {\n",
       "        text-align: right;\n",
       "    }\n",
       "</style>\n",
       "<table border=\"1\" class=\"dataframe\">\n",
       "  <thead>\n",
       "    <tr style=\"text-align: right;\">\n",
       "      <th></th>\n",
       "      <th>Name</th>\n",
       "      <th>Total</th>\n",
       "      <th>Percent</th>\n",
       "    </tr>\n",
       "  </thead>\n",
       "  <tbody>\n",
       "    <tr>\n",
       "      <th>0</th>\n",
       "      <td>number</td>\n",
       "      <td>9</td>\n",
       "      <td>90.0</td>\n",
       "    </tr>\n",
       "    <tr>\n",
       "      <th>1</th>\n",
       "      <td>food</td>\n",
       "      <td>2</td>\n",
       "      <td>20.0</td>\n",
       "    </tr>\n",
       "    <tr>\n",
       "      <th>2</th>\n",
       "      <td>color</td>\n",
       "      <td>1</td>\n",
       "      <td>10.0</td>\n",
       "    </tr>\n",
       "    <tr>\n",
       "      <th>3</th>\n",
       "      <td>place</td>\n",
       "      <td>0</td>\n",
       "      <td>0.0</td>\n",
       "    </tr>\n",
       "    <tr>\n",
       "      <th>4</th>\n",
       "      <td>no</td>\n",
       "      <td>0</td>\n",
       "      <td>0.0</td>\n",
       "    </tr>\n",
       "  </tbody>\n",
       "</table>\n",
       "</div>"
      ],
      "text/plain": [
       "     Name  Total  Percent\n",
       "0  number      9     90.0\n",
       "1    food      2     20.0\n",
       "2   color      1     10.0\n",
       "3   place      0      0.0\n",
       "4      no      0      0.0"
      ]
     },
     "execution_count": 10,
     "metadata": {},
     "output_type": "execute_result"
    }
   ],
   "source": [
    "total = data.isnull().sum().sort_values(ascending=False)\n",
    "percent = ((data.isnull().sum() / data.isnull().count()) * 100).sort_values(ascending=False)\n",
    "\n",
    "missing_data = pd.concat([total, percent], axis=1, keys=['Total', 'Percent'])\n",
    "missing_data = missing_data.reset_index()\n",
    "missing_data.columns = ['Name', 'Total', 'Percent']\n",
    "missing_data[:10]"
   ]
  },
  {
   "cell_type": "code",
   "execution_count": 11,
   "metadata": {},
   "outputs": [
    {
     "name": "stdout",
     "output_type": "stream",
     "text": [
      "Info : 3 out of 5 columns have mising values\n",
      "Info : 0 columns have more that 90% missing values\n",
      "Info : 1 columns have more that 80% missing values\n",
      "Info : 1 columns have more that 70% missing values\n"
     ]
    },
    {
     "data": {
      "text/html": [
       "<div>\n",
       "<style scoped>\n",
       "    .dataframe tbody tr th:only-of-type {\n",
       "        vertical-align: middle;\n",
       "    }\n",
       "\n",
       "    .dataframe tbody tr th {\n",
       "        vertical-align: top;\n",
       "    }\n",
       "\n",
       "    .dataframe thead th {\n",
       "        text-align: right;\n",
       "    }\n",
       "</style>\n",
       "<table border=\"1\" class=\"dataframe\">\n",
       "  <thead>\n",
       "    <tr style=\"text-align: right;\">\n",
       "      <th></th>\n",
       "      <th>column_name</th>\n",
       "      <th>count_missing</th>\n",
       "      <th>percent_missing</th>\n",
       "    </tr>\n",
       "  </thead>\n",
       "  <tbody>\n",
       "    <tr>\n",
       "      <th>4</th>\n",
       "      <td>number</td>\n",
       "      <td>9</td>\n",
       "      <td>0.9</td>\n",
       "    </tr>\n",
       "    <tr>\n",
       "      <th>2</th>\n",
       "      <td>food</td>\n",
       "      <td>2</td>\n",
       "      <td>0.2</td>\n",
       "    </tr>\n",
       "    <tr>\n",
       "      <th>3</th>\n",
       "      <td>color</td>\n",
       "      <td>1</td>\n",
       "      <td>0.1</td>\n",
       "    </tr>\n",
       "  </tbody>\n",
       "</table>\n",
       "</div>"
      ],
      "text/plain": [
       "  column_name  count_missing  percent_missing\n",
       "4      number              9              0.9\n",
       "2        food              2              0.2\n",
       "3       color              1              0.1"
      ]
     },
     "execution_count": 11,
     "metadata": {},
     "output_type": "execute_result"
    }
   ],
   "source": [
    "def missing_values_details(df):\n",
    "    total = df.isnull().sum()\n",
    "    \n",
    "    missing_df = pd.DataFrame({'count_missing': total}).reset_index().rename(columns={'index':'column_name'})\n",
    "    missing_df['percent_missing'] = missing_df['count_missing']/len(df)\n",
    "    missing_df = missing_df.sort_values(by='count_missing', ascending=False)\n",
    "    missing_df = missing_df[missing_df['count_missing']!=0]\n",
    "    print('Info : {} out of {} columns have mising values'.format(len(missing_df), len(df.columns)))\n",
    "    missing_90 = missing_df[missing_df['percent_missing']>0.9]\n",
    "    missing_80 = missing_df[missing_df['percent_missing']>0.8]\n",
    "    missing_70 = missing_df[missing_df['percent_missing']>0.7]\n",
    "    print(\"Info : {} columns have more that 90% missing values\".format(len(missing_90)))\n",
    "    print(\"Info : {} columns have more that 80% missing values\".format(len(missing_80)))\n",
    "    print(\"Info : {} columns have more that 70% missing values\".format(len(missing_70)))\n",
    "    \n",
    "    return missing_df\n",
    "\n",
    "missing_values_details(data)"
   ]
  },
  {
   "cell_type": "code",
   "execution_count": 19,
   "metadata": {},
   "outputs": [
    {
     "data": {
      "image/png": "[encoded data removed]",
      "text/plain": [
       "<Figure size 1080x360 with 2 Axes>"
      ]
     },
     "metadata": {
      "needs_background": "light"
     },
     "output_type": "display_data"
    }
   ],
   "source": [
    "def missing_check(df) : \n",
    "    fig, ax = plt.subplots(figsize=(15, 5))\n",
    "    ax.set_title('Train Data Missing Values')\n",
    "    plt.xticks(rotation=90)\n",
    "    sns.heatmap(df.isnull(), yticklabels=False, cmap='magma', ax=ax)\n",
    "    plt.show()\n",
    "missing_check(data)"
   ]
  },
  {
   "cell_type": "code",
   "execution_count": 21,
   "metadata": {},
   "outputs": [
    {
     "name": "stdout",
     "output_type": "stream",
     "text": [
      "Info : 3 out of 5 columns have mising values\n",
      "Info : 0 columns have more that 90% missing values\n",
      "Info : 1 columns have more that 80% missing values\n",
      "Info : 1 columns have more that 70% missing values\n"
     ]
    },
    {
     "data": {
      "image/png": "[encoded data removed]",
      "text/plain": [
       "<Figure size 1080x360 with 2 Axes>"
      ]
     },
     "metadata": {
      "needs_background": "light"
     },
     "output_type": "display_data"
    },
    {
     "data": {
      "text/html": [
       "<div>\n",
       "<style scoped>\n",
       "    .dataframe tbody tr th:only-of-type {\n",
       "        vertical-align: middle;\n",
       "    }\n",
       "\n",
       "    .dataframe tbody tr th {\n",
       "        vertical-align: top;\n",
       "    }\n",
       "\n",
       "    .dataframe thead th {\n",
       "        text-align: right;\n",
       "    }\n",
       "</style>\n",
       "<table border=\"1\" class=\"dataframe\">\n",
       "  <thead>\n",
       "    <tr style=\"text-align: right;\">\n",
       "      <th></th>\n",
       "      <th>column_name</th>\n",
       "      <th>count_missing</th>\n",
       "      <th>percent_missing</th>\n",
       "    </tr>\n",
       "  </thead>\n",
       "  <tbody>\n",
       "    <tr>\n",
       "      <th>4</th>\n",
       "      <td>number</td>\n",
       "      <td>9</td>\n",
       "      <td>0.9</td>\n",
       "    </tr>\n",
       "    <tr>\n",
       "      <th>2</th>\n",
       "      <td>food</td>\n",
       "      <td>2</td>\n",
       "      <td>0.2</td>\n",
       "    </tr>\n",
       "    <tr>\n",
       "      <th>3</th>\n",
       "      <td>color</td>\n",
       "      <td>1</td>\n",
       "      <td>0.1</td>\n",
       "    </tr>\n",
       "  </tbody>\n",
       "</table>\n",
       "</div>"
      ],
      "text/plain": [
       "  column_name  count_missing  percent_missing\n",
       "4      number              9              0.9\n",
       "2        food              2              0.2\n",
       "3       color              1              0.1"
      ]
     },
     "execution_count": 21,
     "metadata": {},
     "output_type": "execute_result"
    }
   ],
   "source": [
    "def missing_check(df) : \n",
    "    total = df.isnull().sum()    \n",
    "    missing_df = pd.DataFrame({'count_missing': total}).reset_index().rename(columns={'index':'column_name'})\n",
    "    missing_df['percent_missing'] = missing_df['count_missing']/len(df)\n",
    "    missing_df = missing_df.sort_values(by='count_missing', ascending=False)\n",
    "    missing_df = missing_df[missing_df['count_missing']!=0]\n",
    "    print('Info : {} out of {} columns have mising values'.format(len(missing_df), len(df.columns)))\n",
    "    missing_90 = missing_df[missing_df['percent_missing']>0.9]\n",
    "    missing_80 = missing_df[missing_df['percent_missing']>0.8]\n",
    "    missing_70 = missing_df[missing_df['percent_missing']>0.7]\n",
    "    print(\"Info : {} columns have more that 90% missing values\".format(len(missing_90)))\n",
    "    print(\"Info : {} columns have more that 80% missing values\".format(len(missing_80)))\n",
    "    print(\"Info : {} columns have more that 70% missing values\".format(len(missing_70)))   \n",
    "    \n",
    "    fig, ax = plt.subplots(figsize=(15, 5))\n",
    "    ax.set_title('Train Data Missing Values')\n",
    "    plt.xticks(rotation=90)\n",
    "    sns.heatmap(df.isnull(), yticklabels=False, cmap='magma', ax=ax)\n",
    "    plt.show()\n",
    "    return missing_df\n",
    "\n",
    "missing_check(data)"
   ]
  },
  {
   "cell_type": "code",
   "execution_count": null,
   "metadata": {},
   "outputs": [],
   "source": []
  },
  {
   "cell_type": "code",
   "execution_count": null,
   "metadata": {},
   "outputs": [],
   "source": []
  },
  {
   "cell_type": "code",
   "execution_count": null,
   "metadata": {},
   "outputs": [],
   "source": []
  },
  {
   "cell_type": "code",
   "execution_count": null,
   "metadata": {},
   "outputs": [],
   "source": []
  }
 ],
 "metadata": {
  "kernelspec": {
   "display_name": "Python 3",
   "language": "python",
   "name": "python3"
  },
  "language_info": {
   "codemirror_mode": {
    "name": "ipython",
    "version": 3
   },
   "file_extension": ".py",
   "mimetype": "text/x-python",
   "name": "python",
   "nbconvert_exporter": "python",
   "pygments_lexer": "ipython3",
   "version": "3.8.3"
  }
 },
 "nbformat": 4,
 "nbformat_minor": 4
}
